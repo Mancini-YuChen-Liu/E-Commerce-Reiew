{
 "cells": [
  {
   "cell_type": "code",
   "execution_count": 1,
   "outputs": [
    {
     "name": "stdout",
     "output_type": "stream",
     "text": [
      "<class 'pandas.core.frame.DataFrame'>\n",
      "RangeIndex: 541909 entries, 0 to 541908\n",
      "Data columns (total 8 columns):\n",
      " #   Column       Non-Null Count   Dtype  \n",
      "---  ------       --------------   -----  \n",
      " 0   InvoiceNo    541909 non-null  object \n",
      " 1   StockCode    541909 non-null  object \n",
      " 2   Description  540455 non-null  object \n",
      " 3   Quantity     541909 non-null  int64  \n",
      " 4   InvoiceDate  541909 non-null  object \n",
      " 5   UnitPrice    541909 non-null  float64\n",
      " 6   CustomerID   406829 non-null  float64\n",
      " 7   Country      541909 non-null  object \n",
      "dtypes: float64(2), int64(1), object(5)\n",
      "memory usage: 33.1+ MB\n",
      "            Quantity      UnitPrice     CustomerID\n",
      "count  541909.000000  541909.000000  406829.000000\n",
      "mean        9.552250       4.611114   15287.690570\n",
      "std       218.081158      96.759853    1713.600303\n",
      "min    -80995.000000  -11062.060000   12346.000000\n",
      "25%         1.000000       1.250000   13953.000000\n",
      "50%         3.000000       2.080000   15152.000000\n",
      "75%        10.000000       4.130000   16791.000000\n",
      "max     80995.000000   38970.000000   18287.000000 \n",
      " None\n"
     ]
    }
   ],
   "source": [
    "import pandas as pd\n",
    "ogdata=pd.read_csv('e_commerce.csv')\n",
    "print(ogdata.describe(), '\\n',ogdata.info())"
   ],
   "metadata": {
    "collapsed": false,
    "ExecuteTime": {
     "end_time": "2024-03-01T08:47:04.686133700Z",
     "start_time": "2024-03-01T08:47:03.541494500Z"
    }
   },
   "id": "fb3256987a15ece0"
  },
  {
   "cell_type": "markdown",
   "source": [
    "共计541909观察值，description与CustomerID存在缺失值\n",
    "InvoiceDate应为日期，CustomerID应为字符串"
   ],
   "metadata": {
    "collapsed": false
   },
   "id": "d01fc5a0d2cf6284"
  },
  {
   "cell_type": "code",
   "execution_count": 2,
   "outputs": [
    {
     "name": "stdout",
     "output_type": "stream",
     "text": [
      "0        2010-12-01 08:26:00\n",
      "1        2010-12-01 08:26:00\n",
      "2        2010-12-01 08:26:00\n",
      "3        2010-12-01 08:26:00\n",
      "4        2010-12-01 08:26:00\n",
      "                 ...        \n",
      "541904   2011-12-09 12:50:00\n",
      "541905   2011-12-09 12:50:00\n",
      "541906   2011-12-09 12:50:00\n",
      "541907   2011-12-09 12:50:00\n",
      "541908   2011-12-09 12:50:00\n",
      "Name: InvoiceDate, Length: 541909, dtype: datetime64[ns] \n",
      " 0         17850\n",
      "1         17850\n",
      "2         17850\n",
      "3         17850\n",
      "4         17850\n",
      "          ...  \n",
      "541904    12680\n",
      "541905    12680\n",
      "541906    12680\n",
      "541907    12680\n",
      "541908    12680\n",
      "Name: CustomerID, Length: 541909, dtype: object\n"
     ]
    }
   ],
   "source": [
    "cleaned_data = ogdata.copy()\n",
    "cleaned_data[\"InvoiceDate\"] = pd.to_datetime(cleaned_data[\"InvoiceDate\"])\n",
    "cleaned_data[\"CustomerID\"] = cleaned_data[\"CustomerID\"].astype(str)\n",
    "cleaned_data[\"CustomerID\"] = cleaned_data[\"CustomerID\"].str.slice(0, -2)\n",
    "print(cleaned_data[\"InvoiceDate\"],'\\n',cleaned_data[\"CustomerID\"])"
   ],
   "metadata": {
    "collapsed": false,
    "ExecuteTime": {
     "end_time": "2024-03-01T08:47:06.377468400Z",
     "start_time": "2024-03-01T08:47:04.685137Z"
    }
   },
   "id": "516c4f6ed4465d54"
  },
  {
   "cell_type": "code",
   "execution_count": 3,
   "outputs": [
    {
     "name": "stdout",
     "output_type": "stream",
     "text": [
      "       InvoiceNo StockCode                       Description  Quantity  \\\n",
      "141      C536379         D                          Discount        -1   \n",
      "154      C536383    35004C   SET OF 3 COLOURED  FLYING DUCKS        -1   \n",
      "235      C536391     22556    PLASTERS IN TIN CIRCUS PARADE        -12   \n",
      "236      C536391     21984  PACK OF 12 PINK PAISLEY TISSUES        -24   \n",
      "237      C536391     21983  PACK OF 12 BLUE PAISLEY TISSUES        -24   \n",
      "...          ...       ...                               ...       ...   \n",
      "540449   C581490     23144   ZINC T-LIGHT HOLDER STARS SMALL       -11   \n",
      "541541   C581499         M                            Manual        -1   \n",
      "541715   C581568     21258        VICTORIAN SEWING BOX LARGE        -5   \n",
      "541716   C581569     84978  HANGING HEART JAR T-LIGHT HOLDER        -1   \n",
      "541717   C581569     20979     36 PENCILS TUBE RED RETROSPOT        -5   \n",
      "\n",
      "            InvoiceDate  UnitPrice  CustomerID         Country  \n",
      "141      12/1/2010 9:41      27.50     14527.0  United Kingdom  \n",
      "154      12/1/2010 9:49       4.65     15311.0  United Kingdom  \n",
      "235     12/1/2010 10:24       1.65     17548.0  United Kingdom  \n",
      "236     12/1/2010 10:24       0.29     17548.0  United Kingdom  \n",
      "237     12/1/2010 10:24       0.29     17548.0  United Kingdom  \n",
      "...                 ...        ...         ...             ...  \n",
      "540449   12/9/2011 9:57       0.83     14397.0  United Kingdom  \n",
      "541541  12/9/2011 10:28     224.69     15498.0  United Kingdom  \n",
      "541715  12/9/2011 11:57      10.95     15311.0  United Kingdom  \n",
      "541716  12/9/2011 11:58       1.25     17315.0  United Kingdom  \n",
      "541717  12/9/2011 11:58       1.25     17315.0  United Kingdom  \n",
      "\n",
      "[10624 rows x 8 columns]\n"
     ]
    }
   ],
   "source": [
    "print(ogdata[ogdata['Quantity']<0])"
   ],
   "metadata": {
    "collapsed": false,
    "ExecuteTime": {
     "end_time": "2024-03-01T08:47:06.387580900Z",
     "start_time": "2024-03-01T08:47:06.370003800Z"
    }
   },
   "id": "1bee15d844eb8c39"
  },
  {
   "cell_type": "markdown",
   "source": [
    "quantity为负的变量，InvoiceNO均以C开头,需要检验是否开头不为C的值"
   ],
   "metadata": {
    "collapsed": false
   },
   "id": "68d20ce4e2790bd5"
  },
  {
   "cell_type": "code",
   "execution_count": 4,
   "outputs": [
    {
     "name": "stdout",
     "output_type": "stream",
     "text": [
      "       InvoiceNo StockCode Description  Quantity      InvoiceDate  UnitPrice  \\\n",
      "2406      536589     21777         NaN       -10  12/1/2010 16:50        0.0   \n",
      "4347      536764    84952C         NaN       -38  12/2/2010 14:42        0.0   \n",
      "7188      536996     22712         NaN       -20  12/3/2010 15:30        0.0   \n",
      "7189      536997     22028         NaN       -20  12/3/2010 15:30        0.0   \n",
      "7190      536998     85067         NaN        -6  12/3/2010 15:30        0.0   \n",
      "...          ...       ...         ...       ...              ...        ...   \n",
      "535333    581210     23395       check       -26  12/7/2011 18:36        0.0   \n",
      "535335    581212     22578        lost     -1050  12/7/2011 18:38        0.0   \n",
      "535336    581213     22576       check       -30  12/7/2011 18:38        0.0   \n",
      "536908    581226     23090     missing      -338   12/8/2011 9:56        0.0   \n",
      "538919    581422     23169     smashed      -235  12/8/2011 15:24        0.0   \n",
      "\n",
      "        CustomerID         Country  \n",
      "2406           NaN  United Kingdom  \n",
      "4347           NaN  United Kingdom  \n",
      "7188           NaN  United Kingdom  \n",
      "7189           NaN  United Kingdom  \n",
      "7190           NaN  United Kingdom  \n",
      "...            ...             ...  \n",
      "535333         NaN  United Kingdom  \n",
      "535335         NaN  United Kingdom  \n",
      "535336         NaN  United Kingdom  \n",
      "536908         NaN  United Kingdom  \n",
      "538919         NaN  United Kingdom  \n",
      "\n",
      "[1336 rows x 8 columns]\n"
     ]
    }
   ],
   "source": [
    "print(ogdata[(ogdata[\"Quantity\"] < 0) & (ogdata[\"InvoiceNo\"].str[0] != \"C\")])"
   ],
   "metadata": {
    "collapsed": false,
    "ExecuteTime": {
     "end_time": "2024-03-01T08:47:06.546923700Z",
     "start_time": "2024-03-01T08:47:06.383424900Z"
    }
   },
   "id": "ff1734878b9cfd4b"
  },
  {
   "cell_type": "markdown",
   "source": [
    "依然存在开头不为C的观察值"
   ],
   "metadata": {
    "collapsed": false
   },
   "id": "1d2ce1f2fea29f4a"
  },
  {
   "cell_type": "code",
   "execution_count": 5,
   "outputs": [
    {
     "name": "stdout",
     "output_type": "stream",
     "text": [
      "Empty DataFrame\n",
      "Columns: [InvoiceNo, StockCode, Description, Quantity, InvoiceDate, UnitPrice, CustomerID, Country]\n",
      "Index: []\n"
     ]
    }
   ],
   "source": [
    "print(ogdata[(ogdata[\"Quantity\"] < 0)&(ogdata[\"InvoiceNo\"].str[0] != \"C\")&(ogdata[\"UnitPrice\"] != 0)])"
   ],
   "metadata": {
    "collapsed": false,
    "ExecuteTime": {
     "end_time": "2024-03-01T08:47:06.720334400Z",
     "start_time": "2024-03-01T08:47:06.548942100Z"
    }
   },
   "id": "39f4e264b3cb0215"
  },
  {
   "cell_type": "markdown",
   "source": [
    "根据输出结果，猜想得到验证，当`Quantity`为负数的时候，观察值满足以下条件之一：\n",
    "- `InvoiceNo`以C开头，表示订单被取消\n",
    "- `UnitPrice`为0，说明单价为0英镑\n",
    "\n",
    "这些交易数据均不是有效成交数据，不贡献销售，不在后续分析范围内，因此我们将在数据清理步骤，将`Quantity`为负数的观察值删除。"
   ],
   "metadata": {
    "collapsed": false
   },
   "id": "1d57a5e96f25b083"
  },
  {
   "cell_type": "code",
   "execution_count": 6,
   "outputs": [],
   "source": [
    "cleaned_data = cleaned_data[cleaned_data[\"Quantity\"] >= 0]\n",
    "cleaned_data = cleaned_data[cleaned_data[\"UnitPrice\"] >= 0]"
   ],
   "metadata": {
    "collapsed": false,
    "ExecuteTime": {
     "end_time": "2024-03-01T08:47:06.840028500Z",
     "start_time": "2024-03-01T08:47:06.714712300Z"
    }
   },
   "id": "5fd511427133ac25"
  },
  {
   "cell_type": "code",
   "execution_count": 7,
   "outputs": [
    {
     "name": "stdout",
     "output_type": "stream",
     "text": [
      "       InvoiceNo StockCode Description  Quantity      InvoiceDate  UnitPrice  \\\n",
      "622       536414     22139         NaN        56  12/1/2010 11:52        0.0   \n",
      "1970      536545     21134         NaN         1  12/1/2010 14:32        0.0   \n",
      "1971      536546     22145         NaN         1  12/1/2010 14:33        0.0   \n",
      "1972      536547     37509         NaN         1  12/1/2010 14:33        0.0   \n",
      "1987      536549    85226A         NaN         1  12/1/2010 14:34        0.0   \n",
      "...          ...       ...         ...       ...              ...        ...   \n",
      "535322    581199     84581         NaN        -2  12/7/2011 18:26        0.0   \n",
      "535326    581203     23406         NaN        15  12/7/2011 18:31        0.0   \n",
      "535332    581209     21620         NaN         6  12/7/2011 18:35        0.0   \n",
      "536981    581234     72817         NaN        27  12/8/2011 10:33        0.0   \n",
      "538554    581408     85175         NaN        20  12/8/2011 14:06        0.0   \n",
      "\n",
      "        CustomerID         Country  \n",
      "622            NaN  United Kingdom  \n",
      "1970           NaN  United Kingdom  \n",
      "1971           NaN  United Kingdom  \n",
      "1972           NaN  United Kingdom  \n",
      "1987           NaN  United Kingdom  \n",
      "...            ...             ...  \n",
      "535322         NaN  United Kingdom  \n",
      "535326         NaN  United Kingdom  \n",
      "535332         NaN  United Kingdom  \n",
      "536981         NaN  United Kingdom  \n",
      "538554         NaN  United Kingdom  \n",
      "\n",
      "[1454 rows x 8 columns]\n"
     ]
    }
   ],
   "source": [
    "A=ogdata['Description'].isnull()\n",
    "print(ogdata[A])"
   ],
   "metadata": {
    "collapsed": false,
    "ExecuteTime": {
     "end_time": "2024-03-01T08:47:06.874402200Z",
     "start_time": "2024-03-01T08:47:06.854485400Z"
    }
   },
   "id": "2d5ea621b57a397"
  },
  {
   "cell_type": "markdown",
   "source": [
    "依照输出结果，缺失description的数据UnitPrice均为0，需要检查其他缺失description的unitprice是否也为0"
   ],
   "metadata": {
    "collapsed": false
   },
   "id": "7f00cbd2e803544f"
  },
  {
   "cell_type": "code",
   "execution_count": 8,
   "outputs": [
    {
     "name": "stdout",
     "output_type": "stream",
     "text": [
      "Empty DataFrame\n",
      "Columns: [InvoiceNo, StockCode, Description, Quantity, InvoiceDate, UnitPrice, CustomerID, Country]\n",
      "Index: []\n"
     ]
    }
   ],
   "source": [
    "print(ogdata[A & ogdata['UnitPrice']!=0])"
   ],
   "metadata": {
    "collapsed": false,
    "ExecuteTime": {
     "end_time": "2024-03-01T08:47:06.909946100Z",
     "start_time": "2024-03-01T08:47:06.860020600Z"
    }
   },
   "id": "1f83d7b7f95e019d"
  },
  {
   "cell_type": "markdown",
   "source": [
    "缺失description的，unitprice确实均为0，需要检查是否有缺失description但unit price不为0"
   ],
   "metadata": {
    "collapsed": false
   },
   "id": "8b5f9c53c925cd4d"
  },
  {
   "cell_type": "code",
   "execution_count": 9,
   "outputs": [],
   "source": [
    "cleaned_data.dropna(subset=[\"Description\"], inplace=True)"
   ],
   "metadata": {
    "collapsed": false,
    "ExecuteTime": {
     "end_time": "2024-03-01T08:47:06.983734600Z",
     "start_time": "2024-03-01T08:47:06.869237Z"
    }
   },
   "id": "14667ccfeb0213b4"
  },
  {
   "cell_type": "code",
   "execution_count": 10,
   "outputs": [
    {
     "name": "stdout",
     "output_type": "stream",
     "text": [
      "Empty DataFrame\n",
      "Columns: [InvoiceNo, StockCode, Description, Quantity, InvoiceDate, UnitPrice, CustomerID, Country]\n",
      "Index: []\n"
     ]
    }
   ],
   "source": [
    "print(ogdata[(ogdata[\"Description\"].isnull()) & (ogdata[\"UnitPrice\"] != 0)])"
   ],
   "metadata": {
    "collapsed": false,
    "ExecuteTime": {
     "end_time": "2024-03-01T08:47:06.998177400Z",
     "start_time": "2024-03-01T08:47:06.991708100Z"
    }
   },
   "id": "4a53d8ecb7a28239"
  },
  {
   "cell_type": "markdown",
   "source": [
    "筛选出来结果数量为0条，说明缺失description值的数据，同时也不具备有效的UnitPrice值，可以删除"
   ],
   "metadata": {
    "collapsed": false
   },
   "id": "7fcb351a420f0c9c"
  },
  {
   "cell_type": "code",
   "execution_count": 11,
   "outputs": [
    {
     "name": "stdout",
     "output_type": "stream",
     "text": [
      "       InvoiceNo StockCode                      Description  Quantity  \\\n",
      "622       536414     22139                              NaN        56   \n",
      "1443      536544     21773  DECORATIVE ROSE BATHROOM BOTTLE         1   \n",
      "1444      536544     21774  DECORATIVE CATS BATHROOM BOTTLE         2   \n",
      "1445      536544     21786               POLKADOT RAIN HAT          4   \n",
      "1446      536544     21787            RAIN PONCHO RETROSPOT         2   \n",
      "...          ...       ...                              ...       ...   \n",
      "541536    581498    85099B          JUMBO BAG RED RETROSPOT         5   \n",
      "541537    581498    85099C   JUMBO  BAG BAROQUE BLACK WHITE         4   \n",
      "541538    581498     85150    LADIES & GENTLEMEN METAL SIGN         1   \n",
      "541539    581498     85174                S/4 CACTI CANDLES         1   \n",
      "541540    581498       DOT                   DOTCOM POSTAGE         1   \n",
      "\n",
      "            InvoiceDate  UnitPrice  CustomerID         Country  \n",
      "622     12/1/2010 11:52       0.00         NaN  United Kingdom  \n",
      "1443    12/1/2010 14:32       2.51         NaN  United Kingdom  \n",
      "1444    12/1/2010 14:32       2.51         NaN  United Kingdom  \n",
      "1445    12/1/2010 14:32       0.85         NaN  United Kingdom  \n",
      "1446    12/1/2010 14:32       1.66         NaN  United Kingdom  \n",
      "...                 ...        ...         ...             ...  \n",
      "541536  12/9/2011 10:26       4.13         NaN  United Kingdom  \n",
      "541537  12/9/2011 10:26       4.13         NaN  United Kingdom  \n",
      "541538  12/9/2011 10:26       4.96         NaN  United Kingdom  \n",
      "541539  12/9/2011 10:26      10.79         NaN  United Kingdom  \n",
      "541540  12/9/2011 10:26    1714.17         NaN  United Kingdom  \n",
      "\n",
      "[135080 rows x 8 columns]\n"
     ]
    }
   ],
   "source": [
    "print(ogdata[ogdata[\"CustomerID\"].isnull()])"
   ],
   "metadata": {
    "collapsed": false,
    "ExecuteTime": {
     "end_time": "2024-03-01T08:47:07.049117300Z",
     "start_time": "2024-03-01T08:47:07.007501900Z"
    }
   },
   "id": "99e155e53f794537"
  },
  {
   "cell_type": "markdown",
   "source": [],
   "metadata": {
    "collapsed": false
   },
   "id": "33ed7866f05a3d3f"
  },
  {
   "cell_type": "markdown",
   "source": [
    "无影响"
   ],
   "metadata": {
    "collapsed": false
   },
   "id": "f2fc177390c1c28a"
  },
  {
   "cell_type": "code",
   "execution_count": 12,
   "outputs": [
    {
     "name": "stdout",
     "output_type": "stream",
     "text": [
      "United Kingdom          495266\n",
      "Germany                   9495\n",
      "France                    8557\n",
      "EIRE                      8196\n",
      "Spain                     2533\n",
      "Netherlands               2371\n",
      "Belgium                   2069\n",
      "Switzerland               2002\n",
      "Portugal                  1519\n",
      "Australia                 1259\n",
      "Norway                    1086\n",
      "Italy                      803\n",
      "Channel Islands            758\n",
      "Finland                    695\n",
      "Cyprus                     622\n",
      "Sweden                     462\n",
      "Unspecified                446\n",
      "Austria                    401\n",
      "Denmark                    389\n",
      "Japan                      358\n",
      "Poland                     341\n",
      "Israel                     297\n",
      "China                      288\n",
      "Singapore                  229\n",
      "USA                        218\n",
      "UK                         211\n",
      "Iceland                    182\n",
      "Canada                     151\n",
      "Greece                     146\n",
      "Malta                      127\n",
      "United States               73\n",
      "United Arab Emirates        68\n",
      "European Community          61\n",
      "RSA                         58\n",
      "Lebanon                     45\n",
      "Lithuania                   35\n",
      "Brazil                      32\n",
      "Czech Republic              30\n",
      "Bahrain                     19\n",
      "Saudi Arabia                10\n",
      "U.K.                         1\n",
      "Name: Country, dtype: int64\n"
     ]
    }
   ],
   "source": [
    "print(ogdata['Country'].value_counts())"
   ],
   "metadata": {
    "collapsed": false,
    "ExecuteTime": {
     "end_time": "2024-03-01T08:47:07.051112400Z",
     "start_time": "2024-03-01T08:47:07.025900300Z"
    }
   },
   "id": "e82f5afafcd4b0f0"
  },
  {
   "cell_type": "markdown",
   "source": [
    "国家名称存在重复"
   ],
   "metadata": {
    "collapsed": false
   },
   "id": "c17d29a11e2933a9"
  },
  {
   "cell_type": "code",
   "execution_count": 13,
   "outputs": [
    {
     "name": "stdout",
     "output_type": "stream",
     "text": [
      "United Kingdom          485692\n",
      "Germany                   9042\n",
      "France                    8408\n",
      "EIRE                      7894\n",
      "Spain                     2485\n",
      "Netherlands               2363\n",
      "Belgium                   2031\n",
      "Switzerland               1967\n",
      "Portugal                  1501\n",
      "Australia                 1185\n",
      "Norway                    1072\n",
      "Italy                      758\n",
      "Channel Islands            748\n",
      "Finland                    685\n",
      "Cyprus                     614\n",
      "Sweden                     451\n",
      "Unspecified                446\n",
      "Austria                    398\n",
      "Denmark                    380\n",
      "Poland                     330\n",
      "Japan                      321\n",
      "Israel                     295\n",
      "China                      284\n",
      "Singapore                  222\n",
      "Iceland                    182\n",
      "United States              179\n",
      "Canada                     151\n",
      "Greece                     145\n",
      "Malta                      112\n",
      "United Arab Emirates        68\n",
      "European Community          60\n",
      "RSA                         58\n",
      "Lebanon                     45\n",
      "Lithuania                   35\n",
      "Brazil                      32\n",
      "Czech Republic              25\n",
      "Bahrain                     18\n",
      "Saudi Arabia                 9\n",
      "Name: Country, dtype: int64\n"
     ]
    }
   ],
   "source": [
    "cleaned_data[\"Country\"] = cleaned_data[\"Country\"].replace({\"UK\": \"United Kingdom\", \"U.K.\": \"United Kingdom\"})\n",
    "cleaned_data[\"Country\"] = cleaned_data[\"Country\"].replace({ \"USA\":\"United States\"})\n",
    "print(cleaned_data['Country'].value_counts())"
   ],
   "metadata": {
    "collapsed": false,
    "ExecuteTime": {
     "end_time": "2024-03-01T08:47:07.178953300Z",
     "start_time": "2024-03-01T08:47:07.064690600Z"
    }
   },
   "id": "fbe7aa568ad97fa8"
  },
  {
   "cell_type": "code",
   "execution_count": 14,
   "outputs": [
    {
     "data": {
      "text/plain": "       InvoiceNo StockCode                         Description  Quantity  \\\n125882    547063     21791  VINTAGE HEADS AND TAILS CARD GAME          2   \n284534    561876     82600               NO SINGING METAL SIGN         2   \n122310    546861     22228     BUNNY WOODEN PAINTED WITH BIRD         12   \n106846    545346     22283            6 EGG HOUSE PAINTED WOOD         2   \n40478     539737    72349b     SET/6 PURPLE BUTTERFLY T-LIGHTS         2   \n142879    548650     22832           BROCANTE SHELF WITH HOOKS         2   \n235850    557645     23181      BULL DOG BOTTLE TOP WALL CLOCK         1   \n540266    581474     22906     12 MESSAGE CARDS WITH ENVELOPES         1   \n241106    558183     22679       FRENCH BLUE METAL DOOR SIGN 4         2   \n534237    581141     22813        PACK 3 BOXES BIRD PANETTONE         12   \n\n               InvoiceDate  UnitPrice CustomerID         Country  \n125882 2011-03-20 13:33:00       1.25      14769  United Kingdom  \n284534 2011-07-31 12:08:00       2.10      14472  United Kingdom  \n122310 2011-03-17 15:03:00       0.85      14911            EIRE  \n106846 2011-03-02 09:49:00       7.95      12834  United Kingdom  \n40478  2010-12-21 15:19:00       4.21          n  United Kingdom  \n142879 2011-04-01 13:22:00      10.75      14852  United Kingdom  \n235850 2011-06-21 17:08:00      16.63          n  United Kingdom  \n540266 2011-12-08 20:01:00       1.65      12748  United Kingdom  \n241106 2011-06-27 12:13:00       1.25      15996  United Kingdom  \n534237 2011-12-07 13:35:00       1.95      14132  United Kingdom  ",
      "text/html": "<div>\n<style scoped>\n    .dataframe tbody tr th:only-of-type {\n        vertical-align: middle;\n    }\n\n    .dataframe tbody tr th {\n        vertical-align: top;\n    }\n\n    .dataframe thead th {\n        text-align: right;\n    }\n</style>\n<table border=\"1\" class=\"dataframe\">\n  <thead>\n    <tr style=\"text-align: right;\">\n      <th></th>\n      <th>InvoiceNo</th>\n      <th>StockCode</th>\n      <th>Description</th>\n      <th>Quantity</th>\n      <th>InvoiceDate</th>\n      <th>UnitPrice</th>\n      <th>CustomerID</th>\n      <th>Country</th>\n    </tr>\n  </thead>\n  <tbody>\n    <tr>\n      <th>125882</th>\n      <td>547063</td>\n      <td>21791</td>\n      <td>VINTAGE HEADS AND TAILS CARD GAME</td>\n      <td>2</td>\n      <td>2011-03-20 13:33:00</td>\n      <td>1.25</td>\n      <td>14769</td>\n      <td>United Kingdom</td>\n    </tr>\n    <tr>\n      <th>284534</th>\n      <td>561876</td>\n      <td>82600</td>\n      <td>NO SINGING METAL SIGN</td>\n      <td>2</td>\n      <td>2011-07-31 12:08:00</td>\n      <td>2.10</td>\n      <td>14472</td>\n      <td>United Kingdom</td>\n    </tr>\n    <tr>\n      <th>122310</th>\n      <td>546861</td>\n      <td>22228</td>\n      <td>BUNNY WOODEN PAINTED WITH BIRD</td>\n      <td>12</td>\n      <td>2011-03-17 15:03:00</td>\n      <td>0.85</td>\n      <td>14911</td>\n      <td>EIRE</td>\n    </tr>\n    <tr>\n      <th>106846</th>\n      <td>545346</td>\n      <td>22283</td>\n      <td>6 EGG HOUSE PAINTED WOOD</td>\n      <td>2</td>\n      <td>2011-03-02 09:49:00</td>\n      <td>7.95</td>\n      <td>12834</td>\n      <td>United Kingdom</td>\n    </tr>\n    <tr>\n      <th>40478</th>\n      <td>539737</td>\n      <td>72349b</td>\n      <td>SET/6 PURPLE BUTTERFLY T-LIGHTS</td>\n      <td>2</td>\n      <td>2010-12-21 15:19:00</td>\n      <td>4.21</td>\n      <td>n</td>\n      <td>United Kingdom</td>\n    </tr>\n    <tr>\n      <th>142879</th>\n      <td>548650</td>\n      <td>22832</td>\n      <td>BROCANTE SHELF WITH HOOKS</td>\n      <td>2</td>\n      <td>2011-04-01 13:22:00</td>\n      <td>10.75</td>\n      <td>14852</td>\n      <td>United Kingdom</td>\n    </tr>\n    <tr>\n      <th>235850</th>\n      <td>557645</td>\n      <td>23181</td>\n      <td>BULL DOG BOTTLE TOP WALL CLOCK</td>\n      <td>1</td>\n      <td>2011-06-21 17:08:00</td>\n      <td>16.63</td>\n      <td>n</td>\n      <td>United Kingdom</td>\n    </tr>\n    <tr>\n      <th>540266</th>\n      <td>581474</td>\n      <td>22906</td>\n      <td>12 MESSAGE CARDS WITH ENVELOPES</td>\n      <td>1</td>\n      <td>2011-12-08 20:01:00</td>\n      <td>1.65</td>\n      <td>12748</td>\n      <td>United Kingdom</td>\n    </tr>\n    <tr>\n      <th>241106</th>\n      <td>558183</td>\n      <td>22679</td>\n      <td>FRENCH BLUE METAL DOOR SIGN 4</td>\n      <td>2</td>\n      <td>2011-06-27 12:13:00</td>\n      <td>1.25</td>\n      <td>15996</td>\n      <td>United Kingdom</td>\n    </tr>\n    <tr>\n      <th>534237</th>\n      <td>581141</td>\n      <td>22813</td>\n      <td>PACK 3 BOXES BIRD PANETTONE</td>\n      <td>12</td>\n      <td>2011-12-07 13:35:00</td>\n      <td>1.95</td>\n      <td>14132</td>\n      <td>United Kingdom</td>\n    </tr>\n  </tbody>\n</table>\n</div>"
     },
     "execution_count": 14,
     "metadata": {},
     "output_type": "execute_result"
    }
   ],
   "source": [
    "cleaned_data.sample(10)"
   ],
   "metadata": {
    "collapsed": false,
    "ExecuteTime": {
     "end_time": "2024-03-01T08:47:07.239595200Z",
     "start_time": "2024-03-01T08:47:07.181281900Z"
    }
   },
   "id": "758fa575abbf0b2b"
  },
  {
   "cell_type": "code",
   "execution_count": 15,
   "outputs": [
    {
     "name": "stderr",
     "output_type": "stream",
     "text": [
      "C:\\Users\\Administrator\\AppData\\Local\\Temp\\ipykernel_3652\\2553602636.py:2: DtypeWarning: Columns (0) have mixed types. Specify dtype option on import or set low_memory=False.\n",
      "  pd.read_csv(\"e_commerce_cleaned.csv\").sample(10)\n"
     ]
    },
    {
     "data": {
      "text/plain": "       InvoiceNo StockCode                        Description  Quantity  \\\n486409    578347     23229          VINTAGE DONKEY TAIL GAME          1   \n287370    562680     22570           FELTCRAFT CUSHION RABBIT         1   \n256447    559910     23188     VINTAGE  2 METER FOLDING RULER        12   \n22795     538188     22317       FIVE CATS HANGING DECORATION         1   \n102323    545186     22375  AIRLINE BAG VINTAGE JET SET BROWN         1   \n344461    567671     22551           PLASTERS IN TIN SPACEBOY         1   \n161875    550819     22301       COFFEE MUG CAT + BIRD DESIGN         6   \n328841    566314     22732     3D VINTAGE CHRISTMAS STICKERS         18   \n33756     539391     22770                     MIRROR CORNICE         2   \n415267    573286     23275   SET OF 3 HANGING OWLS OLLIE BEAK        24   \n\n                InvoiceDate  UnitPrice CustomerID         Country  \n486409  2011-11-24 09:26:00       7.46          n  United Kingdom  \n287370  2011-08-08 13:46:00       3.75      17954  United Kingdom  \n256447  2011-07-13 14:29:00       1.65      18245  United Kingdom  \n22795   2010-12-10 10:29:00       2.95          n  United Kingdom  \n102323  2011-02-28 15:05:00       4.25      17841  United Kingdom  \n344461  2011-09-21 15:34:00       3.29          n  United Kingdom  \n161875  2011-04-20 17:37:00       2.55      17530  United Kingdom  \n328841  2011-09-12 09:57:00       1.25      15358  United Kingdom  \n33756   2010-12-17 11:51:00      14.95      12417         Belgium  \n415267  2011-10-28 14:38:00       1.25          n     Switzerland  ",
      "text/html": "<div>\n<style scoped>\n    .dataframe tbody tr th:only-of-type {\n        vertical-align: middle;\n    }\n\n    .dataframe tbody tr th {\n        vertical-align: top;\n    }\n\n    .dataframe thead th {\n        text-align: right;\n    }\n</style>\n<table border=\"1\" class=\"dataframe\">\n  <thead>\n    <tr style=\"text-align: right;\">\n      <th></th>\n      <th>InvoiceNo</th>\n      <th>StockCode</th>\n      <th>Description</th>\n      <th>Quantity</th>\n      <th>InvoiceDate</th>\n      <th>UnitPrice</th>\n      <th>CustomerID</th>\n      <th>Country</th>\n    </tr>\n  </thead>\n  <tbody>\n    <tr>\n      <th>486409</th>\n      <td>578347</td>\n      <td>23229</td>\n      <td>VINTAGE DONKEY TAIL GAME</td>\n      <td>1</td>\n      <td>2011-11-24 09:26:00</td>\n      <td>7.46</td>\n      <td>n</td>\n      <td>United Kingdom</td>\n    </tr>\n    <tr>\n      <th>287370</th>\n      <td>562680</td>\n      <td>22570</td>\n      <td>FELTCRAFT CUSHION RABBIT</td>\n      <td>1</td>\n      <td>2011-08-08 13:46:00</td>\n      <td>3.75</td>\n      <td>17954</td>\n      <td>United Kingdom</td>\n    </tr>\n    <tr>\n      <th>256447</th>\n      <td>559910</td>\n      <td>23188</td>\n      <td>VINTAGE  2 METER FOLDING RULER</td>\n      <td>12</td>\n      <td>2011-07-13 14:29:00</td>\n      <td>1.65</td>\n      <td>18245</td>\n      <td>United Kingdom</td>\n    </tr>\n    <tr>\n      <th>22795</th>\n      <td>538188</td>\n      <td>22317</td>\n      <td>FIVE CATS HANGING DECORATION</td>\n      <td>1</td>\n      <td>2010-12-10 10:29:00</td>\n      <td>2.95</td>\n      <td>n</td>\n      <td>United Kingdom</td>\n    </tr>\n    <tr>\n      <th>102323</th>\n      <td>545186</td>\n      <td>22375</td>\n      <td>AIRLINE BAG VINTAGE JET SET BROWN</td>\n      <td>1</td>\n      <td>2011-02-28 15:05:00</td>\n      <td>4.25</td>\n      <td>17841</td>\n      <td>United Kingdom</td>\n    </tr>\n    <tr>\n      <th>344461</th>\n      <td>567671</td>\n      <td>22551</td>\n      <td>PLASTERS IN TIN SPACEBOY</td>\n      <td>1</td>\n      <td>2011-09-21 15:34:00</td>\n      <td>3.29</td>\n      <td>n</td>\n      <td>United Kingdom</td>\n    </tr>\n    <tr>\n      <th>161875</th>\n      <td>550819</td>\n      <td>22301</td>\n      <td>COFFEE MUG CAT + BIRD DESIGN</td>\n      <td>6</td>\n      <td>2011-04-20 17:37:00</td>\n      <td>2.55</td>\n      <td>17530</td>\n      <td>United Kingdom</td>\n    </tr>\n    <tr>\n      <th>328841</th>\n      <td>566314</td>\n      <td>22732</td>\n      <td>3D VINTAGE CHRISTMAS STICKERS</td>\n      <td>18</td>\n      <td>2011-09-12 09:57:00</td>\n      <td>1.25</td>\n      <td>15358</td>\n      <td>United Kingdom</td>\n    </tr>\n    <tr>\n      <th>33756</th>\n      <td>539391</td>\n      <td>22770</td>\n      <td>MIRROR CORNICE</td>\n      <td>2</td>\n      <td>2010-12-17 11:51:00</td>\n      <td>14.95</td>\n      <td>12417</td>\n      <td>Belgium</td>\n    </tr>\n    <tr>\n      <th>415267</th>\n      <td>573286</td>\n      <td>23275</td>\n      <td>SET OF 3 HANGING OWLS OLLIE BEAK</td>\n      <td>24</td>\n      <td>2011-10-28 14:38:00</td>\n      <td>1.25</td>\n      <td>n</td>\n      <td>Switzerland</td>\n    </tr>\n  </tbody>\n</table>\n</div>"
     },
     "execution_count": 15,
     "metadata": {},
     "output_type": "execute_result"
    }
   ],
   "source": [
    "cleaned_data.to_csv(\"e_commerce_cleaned.csv\", index=False)\n",
    "pd.read_csv(\"e_commerce_cleaned.csv\").sample(10)"
   ],
   "metadata": {
    "collapsed": false,
    "ExecuteTime": {
     "end_time": "2024-03-01T08:47:09.991427200Z",
     "start_time": "2024-03-01T08:47:07.236221600Z"
    }
   },
   "id": "cc3746ea278d72f8"
  }
 ],
 "metadata": {
  "kernelspec": {
   "display_name": "Python 3",
   "language": "python",
   "name": "python3"
  },
  "language_info": {
   "codemirror_mode": {
    "name": "ipython",
    "version": 2
   },
   "file_extension": ".py",
   "mimetype": "text/x-python",
   "name": "python",
   "nbconvert_exporter": "python",
   "pygments_lexer": "ipython2",
   "version": "2.7.6"
  }
 },
 "nbformat": 4,
 "nbformat_minor": 5
}
